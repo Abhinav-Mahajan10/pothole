{
  "nbformat": 4,
  "nbformat_minor": 0,
  "metadata": {
    "colab": {
      "private_outputs": true,
      "provenance": []
    },
    "kernelspec": {
      "name": "python3",
      "display_name": "Python 3"
    },
    "language_info": {
      "name": "python"
    },
    "accelerator": "GPU",
    "gpuClass": "standard"
  },
  "cells": [
    {
      "cell_type": "markdown",
      "source": [
        "### Cloning our github repository to get the required files for Mask R-CNN and 3D reconstruction."
      ],
      "metadata": {
        "id": "TZUvS8U6YYC0"
      }
    },
    {
      "cell_type": "code",
      "execution_count": null,
      "metadata": {
        "id": "gGGAfA-9aiyp"
      },
      "outputs": [],
      "source": [
        "!git clone https://github.com/shivankar-p/pothole.git"
      ]
    },
    {
      "cell_type": "markdown",
      "source": [
        "###Installing Metashape from the wheel package"
      ],
      "metadata": {
        "id": "L-IiZF2Tl7QL"
      }
    },
    {
      "cell_type": "code",
      "source": [
        "#installing metashape api\n",
        "!wget https://s3-eu-west-1.amazonaws.com/download.agisoft.com/Metashape-2.0.0-cp35.cp36.cp37.cp38-abi3-linux_x86_64.whl"
      ],
      "metadata": {
        "id": "PGCEpowHemDh"
      },
      "execution_count": null,
      "outputs": []
    },
    {
      "cell_type": "code",
      "source": [
        "!python3 -m pip install Metashape-2.0.0-cp35.cp36.cp37.cp38-abi3-linux_x86_64.whl"
      ],
      "metadata": {
        "id": "Cf1SSXxMfQPB"
      },
      "execution_count": null,
      "outputs": []
    },
    {
      "cell_type": "markdown",
      "source": [
        "###Installing dependencies"
      ],
      "metadata": {
        "id": "CEeTj1ZLlhSo"
      }
    },
    {
      "cell_type": "code",
      "source": [
        "%cd pothole/src\n",
        "!pip install -r requirements.txt\n",
        "!ls"
      ],
      "metadata": {
        "id": "fo6fu0fPapwP"
      },
      "execution_count": null,
      "outputs": []
    },
    {
      "cell_type": "markdown",
      "source": [
        "### Downloading model"
      ],
      "metadata": {
        "id": "IumcSb6anOlp"
      }
    },
    {
      "cell_type": "code",
      "source": [
        "!pip install --upgrade --no-cache-dir gdown"
      ],
      "metadata": {
        "id": "ReMlRnBZccVZ"
      },
      "execution_count": null,
      "outputs": []
    },
    {
      "cell_type": "code",
      "source": [
        "#downloading model\n",
        "!mkdir models\n",
        "%cd models\n",
        "!gdown https://drive.google.com/uc?id=17IY3CnSz7AaIXwE7Q8RSkAV4_6UPiO6-&confirm=t&uuid=91ba32c4-e5a6-4e3b-99f7-bd2162c0e9b7&at=ACjLJWlF0hOpJDIGIBmsaArqm9Yn:1674221046474"
      ],
      "metadata": {
        "id": "SZUpVrQmbsxN"
      },
      "execution_count": null,
      "outputs": []
    },
    {
      "cell_type": "code",
      "source": [
        "%cd ../\n",
        "#!python3 mask8.py --image Images/frame39.png"
      ],
      "metadata": {
        "id": "DaAQWJuMdvlC"
      },
      "execution_count": null,
      "outputs": []
    },
    {
      "cell_type": "markdown",
      "source": [
        "### Importing required python modules"
      ],
      "metadata": {
        "id": "tU77cH_5YzdE"
      }
    },
    {
      "cell_type": "code",
      "source": [
        "import os\n",
        "import cv2\n",
        "import numpy as np\n",
        "import random\n",
        "import colorsys\n",
        "import argparse\n",
        "import time\n",
        "from mrcnn import model as modellib\n",
        "from mrcnn import visualize\n",
        "import matplotlib\n",
        "from custom import CustomConfig\n",
        "import tensorflow as tf\n",
        "import time\n",
        "from estimators import depth_estimator\n",
        "from _3D_reconstruction import coordinates\n",
        "from random import sample\n",
        "import matplotlib.pyplot as plt\n",
        "import matplotlib.image as mpimg"
      ],
      "metadata": {
        "id": "NS0CjVGbrw3S"
      },
      "execution_count": null,
      "outputs": []
    },
    {
      "cell_type": "code",
      "source": [
        "gpu = len(tf.config.list_physical_devices('GPU'))>0\n",
        "print(\"GPU is\", \"available\" if gpu else \"NOT AVAILABLE\")"
      ],
      "metadata": {
        "id": "7xgM95T0swJz"
      },
      "execution_count": null,
      "outputs": []
    },
    {
      "cell_type": "markdown",
      "source": [
        "### Initializing model and loading the weights"
      ],
      "metadata": {
        "id": "0E0GOMeOnd7S"
      }
    },
    {
      "cell_type": "code",
      "source": [
        "def prepare_mrcnn_model(model_path, model_name, class_names, my_config):\n",
        "    classes = open(class_names).read().strip().split(\"\\n\")\n",
        "    print(\"No. of classes\", len(classes))\n",
        "\n",
        "    hsv = [(i / len(classes), 1, 1.0) for i in range(len(classes))]\n",
        "    COLORS = list(map(lambda c: colorsys.hsv_to_rgb(*c), hsv))\n",
        "    random.seed(42)\n",
        "    random.shuffle(COLORS)\n",
        "\n",
        "    #[\"mrcnn_class_logits\", \"mrcnn_bbox_fc\", \"mrcnn_bbox\", \"mrcnn_mask\", \"rpn_model\"]\n",
        "    #initialises the model and loads it with the weights\n",
        "    model = modellib.MaskRCNN(mode=\"inference\", model_dir=model_path, config=my_config)\n",
        "    model.load_weights(model_name, by_name=True)\n",
        "\n",
        "    return COLORS, model, classes"
      ],
      "metadata": {
        "id": "etTeBnlis1K7"
      },
      "execution_count": null,
      "outputs": []
    },
    {
      "cell_type": "markdown",
      "source": [
        "### Creating a dense point cloud"
      ],
      "metadata": {
        "id": "ll0gHcZpqgcB"
      }
    },
    {
      "cell_type": "code",
      "source": [
        "# %cd _3D_reconstruction\n",
        "# !python3 main.py\n",
        "#%cd ../"
      ],
      "metadata": {
        "id": "TI5uUJBbqmJ5"
      },
      "execution_count": null,
      "outputs": []
    },
    {
      "cell_type": "markdown",
      "source": [
        "### Model inference and Severity Estimation"
      ],
      "metadata": {
        "id": "EUQcQ7Amh5hw"
      }
    },
    {
      "cell_type": "code",
      "source": [
        "def custom_visualize(test_image, model, colors, classes, draw_bbox, mrcnn_visualize, instance_segmentation, frame_no,\n",
        "                                                                                     sampling_rate):\n",
        "    start = time.time()\n",
        "    #print(colors)\n",
        "    detections = model.detect([test_image], verbose=1)[0]\n",
        "    end = time.time()\n",
        "\n",
        "    print(\"Time taken to detect: \" +  str(end-start))\n",
        "\n",
        "    if mrcnn_visualize:\n",
        "        matplotlib.use('TkAgg')\n",
        "        out = visualize.display_instances(test_image, detections['rois'], detections['masks'], detections['class_ids'],\n",
        "                                    classes,\n",
        "                                    detections['scores'])\n",
        "        print(\"returning out\")\n",
        "        return out\n",
        "\n",
        "    if instance_segmentation:\n",
        "        hsv = [(i / len(detections['rois']), 1, 1.0) for i in range(len(detections['rois']))]\n",
        "        colors = list(map(lambda c: colorsys.hsv_to_rgb(*c), hsv))\n",
        "        random.seed(42)\n",
        "        random.shuffle(colors)\n",
        "\n",
        "    pothole_depths = []\n",
        "    surface_areas = []\n",
        "    severity_labels = []\n",
        "    mask_colours = []\n",
        "\n",
        "    #iterates over no of potholes \n",
        "    for i in range(0, detections[\"rois\"].shape[0]):\n",
        "        (startY, startX, endY, endX) = detections[\"rois\"][i]\n",
        "        bounding_box = []\n",
        "        bb_endpoints = [[startX, startY], [endX, startY], [startX, endY], [endX, endY]]\n",
        "        pothole_depth = 0\n",
        "        classID = detections[\"class_ids\"][i]\n",
        "\n",
        "        mask = detections[\"masks\"][:, :, i]\n",
        "        pixel_arr = np.argwhere(mask == True)\n",
        "        \n",
        "        if instance_segmentation:\n",
        "            color = colors[i][::-1]\n",
        "        else:\n",
        "            color = colors[classID][::-1]\n",
        "\n",
        "        # To visualize the pixel-wise mask of the object\n",
        "        \n",
        "        depth_start = time.time()\n",
        "        arr = np.argwhere(mask == -1)\n",
        "        num_rows_in_sample = int(arr.shape[0] * sampling_rate)\n",
        "        \n",
        "        #sampling points from the masked pothole points\n",
        "        for point in arr[np.random.choice(arr.shape[0], num_rows_in_sample, replace=False)]:\n",
        "            projection = coordinates.get_coordinate(frame_no, point[1], point[0])\n",
        "            if projection is not None:\n",
        "                pothole_depth = min(pothole_depth, projection[1])\n",
        "        \n",
        "\n",
        "        #gives depth of road surrounding the pothole\n",
        "        ref_depth = depth_estimator.get_ref_depth(bounding_box, frame_no)\n",
        "        \n",
        "        \n",
        "        per_area = pixel_arr.shape[0] * 100 / (mask.shape[0] * mask.shape[1])\n",
        "\n",
        "\n",
        "        mask_colour, depth, severity_label = depth_estimator.severity_estimator(per_area)\n",
        "\n",
        "        #(r, g, b) = mask_colour\n",
        "        test_image = visualize.apply_mask(test_image, mask, mask_colour, alpha=0.5)\n",
        "\n",
        "        #difference between surrounding depth and pothole depth gives actual pothole depth\n",
        "        pothole_depths.append(depth-ref_depth)\n",
        "        surface_areas.append(pixel_arr.shape[0])\n",
        "        severity_labels.append(severity_label)\n",
        "        mask_colours.append(mask_colour)\n",
        "\n",
        "\n",
        "    test_image = cv2.cvtColor(test_image, cv2.COLOR_RGB2BGR)\n",
        "    \n",
        "    #annotating the image with bounding box and severity lable\n",
        "    if draw_bbox == True:\n",
        "        #print(\"inside bboc\")\n",
        "        for i in range(0, len(detections[\"scores\"])):\n",
        "            (startY, startX, endY, endX) = detections[\"rois\"][i]\n",
        "\n",
        "            classID = detections[\"class_ids\"][i]\n",
        "            score = pothole_depths[i]\n",
        "            label = 'Severity'\n",
        "            final_color = mask_colours[i]\n",
        "            boundary_color = [final_color[2], final_color[1], final_color[0]]\n",
        "            text_color = [0, 0, 0]\n",
        "            \n",
        "            severity_label = severity_labels[i]\n",
        "\n",
        "\n",
        "            cv2.rectangle(test_image, (startX, startY), (endX, endY), boundary_color, 2)\n",
        "            text = \"{}: {}\".format(label, severity_label)\n",
        "            if (score > 0):\n",
        "                 text = \"{}: {} Depth: {} cm\".format(label, severity_label, round(score, 2))\n",
        "            y = startY - 10 if startY - 10 > 10 else startY + 10\n",
        "            cv2.putText(test_image, text, (startX, y), cv2.FONT_HERSHEY_SIMPLEX, 0.6, text_color, 2)\n",
        "\n",
        "    return test_image"
      ],
      "metadata": {
        "id": "2-r5zcUqtGbJ"
      },
      "execution_count": null,
      "outputs": []
    },
    {
      "cell_type": "markdown",
      "source": [
        "### Reads video frame by frame and performs inference"
      ],
      "metadata": {
        "id": "CTzBjmoxn_gw"
      }
    },
    {
      "cell_type": "code",
      "source": [
        "def perform_inference_video(use_camera, video_path, model, colors, classes, draw_bbox, mrcnn_visualize,\n",
        "                            instance_segmentation, save_enable, sampling_rate, out_path):\n",
        "    if use_camera:\n",
        "        video = cv2.VideoCapture(0)\n",
        "        time.sleep(2.0)\n",
        "    else:\n",
        "        video = cv2.VideoCapture(video_path)\n",
        "\n",
        "    video_flag = True\n",
        "    \n",
        "    cnt = 0\n",
        "    \n",
        "    while True:\n",
        "        ret, frame = video.read()\n",
        "\n",
        "        cnt += 1\n",
        "\n",
        "        if(cnt % 12 != 0):\n",
        "            continue\n",
        "        \n",
        "        \n",
        "        \n",
        "        if save_enable and video_flag:\n",
        "            print(\"writing video to the :\" + out_path)\n",
        "            out = cv2.VideoWriter(out_path, cv2.VideoWriter_fourcc(*'MP4V'), 3,\n",
        "                                  (frame.shape[1], frame.shape[0]))\n",
        "            video_flag = False\n",
        "\n",
        "        if not ret:\n",
        "            break\n",
        "\n",
        "        frame = cv2.cvtColor(frame, cv2.COLOR_BGR2RGB)\n",
        "\n",
        "        output = custom_visualize(frame, model, colors, classes, draw_bbox, mrcnn_visualize, instance_segmentation, cnt, sampling_rate)\n",
        "\n",
        "        display_img = cv2.cvtColor(output, cv2.COLOR_RGB2BGR)\n",
        "        \n",
        "        print('\\n\\n*******************masked_frame***********************\\n\\n')\n",
        "        fig = plt.figure()\n",
        "        fig.set_figwidth(15)\n",
        "        fig.set_figheight(10)\n",
        "        plt.imshow(display_img)\n",
        "        plt.show()\n",
        "\n",
        "        if save_enable:\n",
        "            out.write(output)\n",
        "        \n",
        "        \n",
        "\n",
        "        key = cv2.waitKey(1) & 0xFF\n",
        "        if key == ord(\"q\"):\n",
        "            break"
      ],
      "metadata": {
        "id": "7qSsI-iVYWCi"
      },
      "execution_count": null,
      "outputs": []
    },
    {
      "cell_type": "markdown",
      "source": [
        "### Function for performing inference on image"
      ],
      "metadata": {
        "id": "fXYQjrHIoGqT"
      }
    },
    {
      "cell_type": "code",
      "source": [
        "def perform_inference_image(image_path, model, colors, classes, draw_bbox, mrcnn_visualize, instance_segmentation,\n",
        "                            save_enable, sampling_rate):\n",
        "    test_image = cv2.imread(image_path)\n",
        "    test_img = test_image\n",
        "    test_image = cv2.cvtColor(test_image, cv2.COLOR_BGR2RGB)\n",
        "\n",
        "    \n",
        "\n",
        "    output = custom_visualize(test_image, model, colors, classes, draw_bbox, mrcnn_visualize, instance_segmentation, 0, sampling_rate)\n",
        "    display_img = cv2.cvtColor(output, cv2.COLOR_RGB2BGR)\n",
        "    if not mrcnn_visualize:\n",
        "        if save_enable:\n",
        "            cv2.imwrite(\"result.png\", output)\n",
        "    print('\\n\\n*******************original_image***********************\\n\\n')\n",
        "    fig2 = plt.figure()\n",
        "    fig2.set_figwidth(15)\n",
        "    fig2.set_figheight(10)\n",
        "    plt.imshow(test_img)\n",
        "    plt.show()\n",
        "        \n",
        "    print('\\n\\n*******************masked_image***********************\\n\\n')\n",
        "    fig = plt.figure()\n",
        "    fig.set_figwidth(15)\n",
        "    fig.set_figheight(10)\n",
        "    plt.imshow(display_img)\n",
        "    plt.show()\n",
        "        "
      ],
      "metadata": {
        "id": "B0e21eQBs72N"
      },
      "execution_count": null,
      "outputs": []
    },
    {
      "cell_type": "markdown",
      "source": [
        "### Define configs for custom execution for images\n",
        "\n"
      ],
      "metadata": {
        "id": "mwvc8gk_j31n"
      }
    },
    {
      "cell_type": "markdown",
      "source": [
        "**Assigning graphics card defaults**"
      ],
      "metadata": {
        "id": "a10-E9YrlyYH"
      }
    },
    {
      "cell_type": "code",
      "source": [
        "class InferenceConfig(CustomConfig):\n",
        "        GPU_COUNT = 1\n",
        "        IMAGES_PER_GPU = 1"
      ],
      "metadata": {
        "id": "e93r6StkxbhA"
      },
      "execution_count": null,
      "outputs": []
    },
    {
      "cell_type": "markdown",
      "source": [
        "# **Selecting image to process**\n",
        "**Only change the line below to set the needed image path**"
      ],
      "metadata": {
        "id": "K4qkZ8wXl6QB"
      }
    },
    {
      "cell_type": "code",
      "source": [
        "image_path = \"Images/frame39.png\""
      ],
      "metadata": {
        "id": "7KYvViXANITk"
      },
      "execution_count": null,
      "outputs": []
    },
    {
      "cell_type": "markdown",
      "source": [
        "**Tuning model for the given frame**"
      ],
      "metadata": {
        "id": "EKDjiUV7mAgR"
      }
    },
    {
      "cell_type": "code",
      "source": [
        "Image_config = {'model_name': 'models/mask_rcnn_model.h5',\n",
        "                'model_path': 'models',\n",
        "                'class_names': 'pothole_classes.txt',\n",
        "                'image_path': image_path,\n",
        "                'instance_segmentation': True,\n",
        "                'sampling_rate' : 0.01\n",
        "               }"
      ],
      "metadata": {
        "id": "K9csxHIfOqif"
      },
      "execution_count": null,
      "outputs": []
    },
    {
      "cell_type": "code",
      "source": [
        "%ls"
      ],
      "metadata": {
        "id": "eFHUZpQK5Neg"
      },
      "execution_count": null,
      "outputs": []
    },
    {
      "cell_type": "markdown",
      "source": [
        "### Running inference model for images"
      ],
      "metadata": {
        "id": "ftgFYIw4mVbR"
      }
    },
    {
      "cell_type": "code",
      "source": [
        "model_config = InferenceConfig()\n",
        "model_config.display()\n",
        "colors, model, classes = prepare_mrcnn_model(Image_config['model_path'], Image_config['model_name'], Image_config['class_names'],\n",
        "                                                     model_config)\n",
        "perform_inference_image(Image_config['image_path'], model, colors, classes, True , False,\n",
        "                                          Image_config['instance_segmentation'], True, Image_config['sampling_rate'])"
      ],
      "metadata": {
        "id": "oE8-_6OmOoRX"
      },
      "execution_count": null,
      "outputs": []
    },
    {
      "cell_type": "markdown",
      "source": [
        "### Defining configs for custom execution for videos"
      ],
      "metadata": {
        "id": "FpmPJQSemglT"
      }
    },
    {
      "cell_type": "markdown",
      "source": [
        "# **Selecting video to process**\n",
        "**Only change the line below to set the needed video path**"
      ],
      "metadata": {
        "id": "p24Hr6BZ5sfT"
      }
    },
    {
      "cell_type": "code",
      "source": [
        "video_path = \"Videos/Scene1sample1.mp4\""
      ],
      "metadata": {
        "id": "1aMUtAVxQH7u"
      },
      "execution_count": null,
      "outputs": []
    },
    {
      "cell_type": "markdown",
      "source": [
        "**Tuning model for the given video**"
      ],
      "metadata": {
        "id": "vmZZtM_nmpXw"
      }
    },
    {
      "cell_type": "code",
      "source": [
        "Video_config = {'model_name': 'models/mask_rcnn_model.h5',\n",
        "                'model_path': 'models',\n",
        "                'class_names': 'pothole_classes.txt',\n",
        "                'video_path': video_path,\n",
        "                'instance_segmentation': True,\n",
        "                'sampling_rate' : 0.01,\n",
        "                'output_path' : 'model_output.mp4'\n",
        "               }"
      ],
      "metadata": {
        "id": "ZjOJmPh6XaAo"
      },
      "execution_count": null,
      "outputs": []
    },
    {
      "cell_type": "markdown",
      "source": [
        "### Instantiating configs to start execution"
      ],
      "metadata": {
        "id": "IWkQragOkRI2"
      }
    },
    {
      "cell_type": "code",
      "source": [
        "model_config = InferenceConfig()\n",
        "model_config.display()\n",
        "colors, model, classes = prepare_mrcnn_model(Video_config['model_path'], Video_config['model_name'], Video_config['class_names'],\n",
        "                                                     model_config)\n"
      ],
      "metadata": {
        "id": "yNxHDAhvX5qL"
      },
      "execution_count": null,
      "outputs": []
    },
    {
      "cell_type": "markdown",
      "source": [
        "### Execute inference model"
      ],
      "metadata": {
        "id": "SRg4Q99KkaN2"
      }
    },
    {
      "cell_type": "code",
      "source": [
        "perform_inference_video(False, Video_config['video_path'], model, colors, classes, True , False,\n",
        "                                          Video_config['instance_segmentation'], True, Video_config['sampling_rate'],\n",
        "                                          Video_config['output_path'])"
      ],
      "metadata": {
        "id": "B8HF6SfJYAzP"
      },
      "execution_count": null,
      "outputs": []
    },
    {
      "cell_type": "markdown",
      "source": [
        "## Team ApexCoders\n",
        "- [Shivankar Pilligundla](https://www.linkedin.com/in/shivankar-pilligundla-a1112a201/)\n",
        "- [Srinivas Manda](https://www.linkedin.com/in/srinivas-manda-41a302224/)\n",
        "- [Hardik Khandelwal](https://www.linkedin.com/in/hardik-khandelwal-533599205/)\n",
        "- [Karanjit Saha](https://www.linkedin.com/in/karanjit-saha-65a02122b/)\n",
        "- [Netradeepak Chinchwadkar](https://www.linkedin.com/in/netradeepak-chinchwadkar-30728a201/)\n",
        "- [Abhinav Mahajan](https://www.linkedin.com/in/abhinav-mahajan-727068233/)\n"
      ],
      "metadata": {
        "id": "Dn5Mb_EwjT69"
      }
    }
  ]
}